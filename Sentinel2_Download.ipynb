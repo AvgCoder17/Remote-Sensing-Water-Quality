{
 "cells": [
  {
   "cell_type": "code",
   "execution_count": 1,
   "id": "db693a5b-5d60-45f0-b141-cf81275ab1b1",
   "metadata": {},
   "outputs": [],
   "source": [
    "import ee\n",
    "import pandas as pd"
   ]
  },
  {
   "cell_type": "code",
   "execution_count": null,
   "id": "dc9e6889-2a36-4e37-87ff-bc8646d9bf64",
   "metadata": {},
   "outputs": [],
   "source": [
    "ee.Authenticate()\n",
    "ee.Initialize()"
   ]
  },
  {
   "cell_type": "code",
   "execution_count": 3,
   "id": "ddd8210c",
   "metadata": {},
   "outputs": [],
   "source": [
    "def HS2_col(aoi, date_min, date_max):\n",
    "    \"\"\"\n",
    "       Input : Area of Interest, Date Range\n",
    "       Output : Harmonized Sentinel-2 Image\n",
    "    \"\"\"\n",
    "    S2 = ee.ImageCollection('COPERNICUS/S2_SR_HARMONIZED')\\\n",
    "                    .filterBounds(aoi)\\\n",
    "                    .filterDate(ee.Date(date_min), ee.Date(date_max))\\\n",
    "                    .filter(ee.Filter.lte('CLOUDY_PIXEL_PERCENTAGE', CLOUD_FILTER))# Filters images so that the % cloud cover is atmost equal to CLOUD_FILTER\n",
    "    \n",
    "    S2_cloud_prb = ee.ImageCollection('COPERNICUS/S2_CLOUD_PROBABILITY')\\\n",
    "                    .filterBounds(aoi)\\\n",
    "                    .filterDate(ee.Date(date_min), ee.Date(date_max))\n",
    "    \n",
    "    \"\"\"Connects both ImageCollection and links them together by each images respective counterpart through the 'system:index' property \n",
    "       and labels the matched collections as s2cloudless\"\"\"\n",
    "    return ee.ImageCollection(ee.Join.saveFirst('s2cloudless').apply(**{\n",
    "        'primary': S2,\n",
    "        'secondary': S2_cloud_prb,\n",
    "        'condition': ee.Filter.equals(**{\n",
    "            'leftField': 'system:index',\n",
    "            'rightField': 'system:index'\n",
    "        })\n",
    "    }))"
   ]
  },
  {
   "cell_type": "code",
   "execution_count": 4,
   "id": "91e3546e",
   "metadata": {},
   "outputs": [],
   "source": [
    "def get_coords(lon, lat, size):\n",
    "    \"\"\"\n",
    "       Input : Longitutde, Latitude, Size\n",
    "       Output : size*size region centered at the given longitude and latitude coordinates (Area of Interest)\n",
    "    \"\"\"\n",
    "    coords = [\n",
    "         [lon - size/2., lat - size/2.],\n",
    "         [lon + size/2., lat - size/2.],\n",
    "         [lon + size/2., lat + size/2.],\n",
    "         [lon - size/2., lat + size/2.],\n",
    "         [lon - size/2., lat - size/2.]\n",
    "    ]\n",
    "    aoi = ee.Geometry.Polygon(coords)\n",
    "    \n",
    "    return aoi"
   ]
  },
  {
   "cell_type": "code",
   "execution_count": 5,
   "id": "dd52b6cd",
   "metadata": {},
   "outputs": [],
   "source": [
    "def add_cloud_bands(img):\n",
    "    \"\"\"\n",
    "       Input : Image\n",
    "       Output : Image with cld_prb and is_cloud added as image bands\n",
    "    \"\"\"\n",
    "    cld_prb = ee.Image(img.get('s2cloudless')).select('probability') # Obtains s2cloudless image with the probability band\n",
    "    is_cloud = cld_prb.gt(CLD_PRB_THRESH).rename('clouds') # Identifies pixels as clouds if value of 'probability' is higher than CLD_PRB_THRESH\n",
    "    return img.addBands(ee.Image([cld_prb, is_cloud]))"
   ]
  },
  {
   "cell_type": "code",
   "execution_count": 6,
   "id": "940ecff3",
   "metadata": {},
   "outputs": [],
   "source": [
    "def add_shadow_bands(img):\n",
    "    \"\"\"\n",
    "       Input : Image\n",
    "       Output : Image with dark_pixels, cld_proj, shadows added as image bands\n",
    "    \"\"\"\n",
    "    not_water = img.select('SCL').neq(6) #Identifies water pixels from the SCL band\n",
    "    SR_BAND_SCALE = 1e4\n",
    "    dark_pixels = img.select('B8').lt(NIR_DRK_THRESH*SR_BAND_SCALE*SR_BAND_SCALE).multiply(not_water).rename('dark_pixels') #Identifies potential shadow cloud pixels that are not water pixels\n",
    "    shadow_azimuth = ee.Number(90).subtract(ee.Number(img.get('MEAN_SOLAR_AZIMUTH_ANGLE'))) # Determine the direction to project cloud shadow from clouds (assumes UTM projection)\n",
    "    cld_proj = (img.select('clouds').directionalDistanceTransform(shadow_azimuth, CLD_PRJ_DIST*10) # Project shadows from clouds for the distance specified by the CLD_PRJ_DIST input\n",
    "        .reproject(**{'crs': img.select(0).projection(), 'scale': 100})\n",
    "        .select('distance')\n",
    "        .mask()\n",
    "        .rename('cloud_transform'))\n",
    "    shadows = cld_proj.multiply(dark_pixels).rename('shadows') # Identify the intersection of dark pixels with cloud shadow projection\n",
    "    return img.addBands(ee.Image([dark_pixels, cld_proj, shadows]))"
   ]
  },
  {
   "cell_type": "code",
   "execution_count": 7,
   "id": "f4cd9c8f",
   "metadata": {},
   "outputs": [],
   "source": [
    "def add_cld_shdw_mask(img):\n",
    "    \"\"\"\n",
    "       Input : Image\n",
    "       Output : Image with final cloud masking band\n",
    "    \"\"\"\n",
    "    img_cloud = add_cloud_bands(img)\n",
    "    img_cloud_shadow = add_shadow_bands(img_cloud)\n",
    "    is_cld_shdw = img_cloud_shadow.select('clouds').add(img_cloud_shadow.select('shadows')).gt(0) # Combines cloud and cloud shadow mask, values of clouds and shadows set as equal to 1, and others to 0\n",
    "    \"Remove small cloud-shadow patches and dilate remaining pixels by BUFFER input 20 m scale is for speed, and assumes clouds don't require 10 m precision\"\n",
    "    is_cld_shdw = (is_cld_shdw.focalMin(2).focalMax(BUFFER*2/20)\n",
    "        .reproject(**{'crs': img.select([0]).projection(), 'scale': 20})\n",
    "        .rename('cloudmask'))\n",
    "    return img.addBands(is_cld_shdw)"
   ]
  },
  {
   "cell_type": "code",
   "execution_count": 8,
   "id": "ae7a0ba4",
   "metadata": {},
   "outputs": [],
   "source": [
    "def apply_cld_shdw_mask(img):\n",
    "    \"\"\"\n",
    "       Input : Image\n",
    "       Output : Cloud-Free Image\n",
    "    \"\"\"\n",
    "    not_cld_shdw = img.select('cloudmask').Not() # Invert cloudmask band, clouds and shadows become 0, everything else 1\n",
    "    return img.select('B.*').updateMask(not_cld_shdw) # Update surface reflectance bands with cloud masking"
   ]
  },
  {
   "cell_type": "code",
   "execution_count": 9,
   "id": "40ca5376",
   "metadata": {},
   "outputs": [],
   "source": [
    "def download_S2(img, aoi, filename):\n",
    "    \"\"\"\n",
    "       Input : Image, Area of Interest, Filename\n",
    "       Output : Image downloaded as filename.tif in Google Drive\n",
    "    \"\"\"\n",
    "    \n",
    "    task = ee.batch.Export.image.toDrive(**{\n",
    "        'image' : img,\n",
    "        'description' : filename,\n",
    "        'scale' : 10,\n",
    "        'region' : aoi,\n",
    "        'crs' : 'EPSG:4326',\n",
    "        'folder' : 'BOD5/0.15Deg'\n",
    "    })\n",
    "    task.start()"
   ]
  },
  {
   "cell_type": "code",
   "execution_count": 10,
   "id": "3a28e2d4-6cab-49d1-9b63-f48203f236d5",
   "metadata": {},
   "outputs": [],
   "source": [
    "\"\"\"\n",
    "    Credits to Google jdbcode for Sentinel-2 Cloud Masking\n",
    "    Sentinel-2 Cloud Masking with s2cloudless \n",
    "\"\"\"\n",
    "#Values in these sections can be changed to further optimize cloud masking Sentinel 2 Images\n",
    "CLOUD_FILTER = 60 # Maximum image cloud cover percent allowed in image collection\n",
    "CLD_PRB_THRESH = 65 # Cloud probability (%); values greater than are considered cloud\n",
    "NIR_DRK_THRESH = 0.15 #Near-infrared reflectance; values less than are considered potential cloud shadow\n",
    "CLD_PRJ_DIST = 2 # Maximum distance (km) to search for cloud shadows from cloud edges\n",
    "BUFFER = 50 # Distance (m) to dilate the edge of cloud-identified objects"
   ]
  },
  {
   "cell_type": "code",
   "execution_count": 11,
   "id": "5a263dea",
   "metadata": {},
   "outputs": [],
   "source": [
    "#For reading large CSV GRQA files\n",
    "const_date = \"2017-03-28\"\n",
    "cols = ['lat_wgs84', 'lon_wgs84', 'obs_date', 'site_id', 'param_code', 'obs_value', 'obs_iqr_outlier']\n",
    "iter_csv = pd.read_csv('BOD5_GRQA.csv', iterator=True, chunksize=1000, sep=';', usecols=cols)\n",
    "#Only reads data after 2017-03-28 and are not outliers\n",
    "df = pd.concat([chunk[(chunk['obs_date'] > const_date) & (chunk['obs_iqr_outlier'] == 'no')] for chunk in iter_csv])\n",
    "\n",
    "#df = pd.read_csv('Water_Data.csv')\n",
    "site_id = df['site_id'].values\n",
    "lat = df['lat_wgs84'].values\n",
    "lon = df['lon_wgs84'].values\n",
    "date_min = df['obs_date'].values\n",
    "obs_value = df['obs_value'].values\n",
    "param_code = df['param_code'].values\n",
    "\n",
    "# Adds 1 month to each date so S2 images are downloaded and compiled within a 1 month period\n",
    "date_max = []\n",
    "for date in date_min:\n",
    "    new_date = pd.to_datetime(date) + pd.DateOffset(months=1)\n",
    "    new_date = new_date.date()\n",
    "    date_max.append(new_date.strftime('%Y-%m-%d'))"
   ]
  },
  {
   "cell_type": "code",
   "execution_count": 15,
   "id": "7b86a290-99d7-4ce4-9681-6cc682265497",
   "metadata": {},
   "outputs": [],
   "source": [
    "# For-loop that runs the code using the arrays that stored the data read from the CSV file\n",
    "size = 0.15\n",
    "for i in range(0, len(site_id)):\n",
    "    aoi = get_coords(lon[i], lat[i], size)\n",
    "    img_col = HS2_col(aoi, date_min[i], date_max[i])\n",
    "    CFS2 = img_col.map(add_cld_shdw_mask)\\\n",
    "                  .map(apply_cld_shdw_mask)\\\n",
    "                  .select('B4','B3','B2','B1','B5','B6','B7','B8','B8A','B9','B11','B12')\\\n",
    "                  .median()\n",
    "    #filename = {0};{1};BOD5{2}'.format(site_id[c], date_min[c], obs_value[c])\n",
    "    #download_S2(CFS2, aoi, filename)\n",
    "    filename = f'{site_id[i]}_{date_min[i]}_{param_code[i]}_{obs_value[i]}'\n",
    "    download_S2(CFS2, aoi, filename)"
   ]
  }
 ],
 "metadata": {
  "kernelspec": {
   "display_name": "Python 3 (ipykernel)",
   "language": "python",
   "name": "python3"
  },
  "language_info": {
   "codemirror_mode": {
    "name": "ipython",
    "version": 3
   },
   "file_extension": ".py",
   "mimetype": "text/x-python",
   "name": "python",
   "nbconvert_exporter": "python",
   "pygments_lexer": "ipython3",
   "version": "3.9.16"
  }
 },
 "nbformat": 4,
 "nbformat_minor": 5
}
